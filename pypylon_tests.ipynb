{
 "cells": [
  {
   "cell_type": "code",
   "execution_count": 1,
   "id": "35d5da88",
   "metadata": {},
   "outputs": [],
   "source": [
    "import pypylon.pylon as py\n",
    "import matplotlib.pyplot as plt\n",
    "import numpy as np\n"
   ]
  },
  {
   "cell_type": "code",
   "execution_count": 2,
   "id": "755c9bd8",
   "metadata": {},
   "outputs": [],
   "source": [
    "def Initcam():\n",
    "    tlf = py.TlFactory.GetInstance()\n",
    "    devices = tlf.EnumerateDevices()\n",
    "    \n",
    "    mycam = py.InstantCamera(tlf.CreateDevice(devices[0]))\n",
    "    \n",
    "    return (mycam)"
   ]
  },
  {
   "cell_type": "code",
   "execution_count": 6,
   "id": "93f00adf",
   "metadata": {},
   "outputs": [],
   "source": [
    "def acquire(mycam):\n",
    "    result = mycam.GrabOne(1000)\n",
    "    myimg = result.GetArray()\n",
    "    return(myimg)\n"
   ]
  },
  {
   "cell_type": "code",
   "execution_count": 7,
   "id": "43a526df",
   "metadata": {},
   "outputs": [],
   "source": [
    "camera1 = Initcam()"
   ]
  },
  {
   "cell_type": "code",
   "execution_count": 8,
   "id": "2b9638d6",
   "metadata": {},
   "outputs": [],
   "source": [
    "image = acquire(camera1)"
   ]
  },
  {
   "cell_type": "code",
   "execution_count": 9,
   "id": "7639b6df",
   "metadata": {},
   "outputs": [
    {
     "name": "stdout",
     "output_type": "stream",
     "text": [
      "<class 'numpy.ndarray'>\n"
     ]
    }
   ],
   "source": [
    "print(type(image))"
   ]
  },
  {
   "cell_type": "code",
   "execution_count": 10,
   "id": "2b36f249",
   "metadata": {},
   "outputs": [
    {
     "data": {
      "text/plain": [
       "(4600, 5232)"
      ]
     },
     "execution_count": 10,
     "metadata": {},
     "output_type": "execute_result"
    }
   ],
   "source": [
    "np.shape(image)"
   ]
  },
  {
   "cell_type": "code",
   "execution_count": 19,
   "id": "c5a10a7e",
   "metadata": {},
   "outputs": [],
   "source": [
    "from scipy import ndimage\n",
    "def get_centroid (ndarray):\n",
    "    centroid = ndimage.center_of_mass((ndarray))\n",
    "    return (centroid)"
   ]
  },
  {
   "cell_type": "code",
   "execution_count": 20,
   "id": "1514c54c",
   "metadata": {},
   "outputs": [],
   "source": [
    "center = get_centroid(image)"
   ]
  },
  {
   "cell_type": "code",
   "execution_count": 21,
   "id": "76ddaf6f",
   "metadata": {},
   "outputs": [
    {
     "data": {
      "text/plain": [
       "(2344.963575748908, 2619.4468981764526)"
      ]
     },
     "execution_count": 21,
     "metadata": {},
     "output_type": "execute_result"
    }
   ],
   "source": [
    "center"
   ]
  },
  {
   "cell_type": "code",
   "execution_count": null,
   "id": "9cfd11c1",
   "metadata": {},
   "outputs": [],
   "source": []
  }
 ],
 "metadata": {
  "kernelspec": {
   "display_name": "Python 3 (ipykernel)",
   "language": "python",
   "name": "python3"
  },
  "language_info": {
   "codemirror_mode": {
    "name": "ipython",
    "version": 3
   },
   "file_extension": ".py",
   "mimetype": "text/x-python",
   "name": "python",
   "nbconvert_exporter": "python",
   "pygments_lexer": "ipython3",
   "version": "3.8.10"
  }
 },
 "nbformat": 4,
 "nbformat_minor": 5
}
